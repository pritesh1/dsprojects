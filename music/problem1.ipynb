{
 "cells": [
  {
   "cell_type": "code",
   "execution_count": 1,
   "metadata": {
    "collapsed": true
   },
   "outputs": [],
   "source": [
    "import pandas as pd\n"
   ]
  },
  {
   "cell_type": "code",
   "execution_count": 2,
   "metadata": {
    "collapsed": true
   },
   "outputs": [],
   "source": [
    "df_labels_train = pd.read_csv('music_train_labels.csv')\n",
    "column_names=[i for i in range(0,550)]"
   ]
  },
  {
   "cell_type": "code",
   "execution_count": 3,
   "metadata": {
    "collapsed": false
   },
   "outputs": [],
   "source": [
    "df_features=pd.read_csv('df_train_anon.csv',header=None)\n"
   ]
  },
  {
   "cell_type": "code",
   "execution_count": 4,
   "metadata": {
    "collapsed": false
   },
   "outputs": [],
   "source": [
    "Y=df_features[549]\n",
    "y=Y.tolist()"
   ]
  },
  {
   "cell_type": "code",
   "execution_count": 5,
   "metadata": {
    "collapsed": false
   },
   "outputs": [
    {
     "data": {
      "text/plain": [
       "1167"
      ]
     },
     "execution_count": 5,
     "metadata": {},
     "output_type": "execute_result"
    }
   ],
   "source": [
    "len(y)"
   ]
  },
  {
   "cell_type": "code",
   "execution_count": 6,
   "metadata": {
    "collapsed": false
   },
   "outputs": [],
   "source": [
    "M=df_features.to_dict()"
   ]
  },
  {
   "cell_type": "code",
   "execution_count": 7,
   "metadata": {
    "collapsed": false
   },
   "outputs": [],
   "source": [
    "X=[]\n",
    "for j in range(0,len(M[1])):\n",
    "    l=[]\n",
    "    for i in range(0,549):\n",
    "        l.append(M[i][j])\n",
    "    X.append(l)    \n",
    "\n",
    "    \n",
    "    "
   ]
  },
  {
   "cell_type": "code",
   "execution_count": 10,
   "metadata": {
    "collapsed": false
   },
   "outputs": [],
   "source": [
    "from sklearn import preprocessing"
   ]
  },
  {
   "cell_type": "code",
   "execution_count": 11,
   "metadata": {
    "collapsed": true
   },
   "outputs": [],
   "source": [
    "scaler = preprocessing.StandardScaler()"
   ]
  },
  {
   "cell_type": "code",
   "execution_count": 93,
   "metadata": {
    "collapsed": false
   },
   "outputs": [
    {
     "name": "stderr",
     "output_type": "stream",
     "text": [
      "/Library/Python/2.7/site-packages/sklearn/utils/__init__.py:93: DeprecationWarning: Function std_ is deprecated; Attribute ``std_`` will be removed in 0.19. Use ``scale_`` instead\n",
      "  warnings.warn(msg, category=DeprecationWarning)\n"
     ]
    }
   ],
   "source": [
    "scaler.scale_ = scaler.std_.copy()"
   ]
  },
  {
   "cell_type": "code",
   "execution_count": 103,
   "metadata": {
    "collapsed": false
   },
   "outputs": [],
   "source": [
    "from sklearn import preprocessing\n",
    "from sklearn.decomposition import PCA\n",
    "\n",
    "\n",
    "import scipy as sp\n",
    "import sklearn as sk\n",
    "from sklearn.linear_model import LinearRegression\n",
    "from sklearn.cross_validation import train_test_split\n",
    "\n",
    "class Estimator_prob3(sk.base.BaseEstimator, sk.base.RegressorMixin):\n",
    "    \"\"\"\n",
    "    A shell estimator that combines a transformer and regressor into a single object.\n",
    "    \"\"\"\n",
    "    def __init__(self, transformer, model):\n",
    "        self.transformer = transformer\n",
    "        self.model = model\n",
    "        pass\n",
    "\n",
    "    def fit(self, X, y):\n",
    "        X_trans = self.transformer.fit(X)\n",
    "        self.model.fit(X_trans, y)\n",
    "        self.model.scale_=self.model.std_.copy()\n",
    "        return self\n",
    "    \n",
    "    def score(self, X, y):\n",
    "        X_test = self.transformer.transform(X)\n",
    "        return self.model.score(X_test, y)\n",
    "\n",
    "    def predict(self, X):\n",
    "        X_test = self.transformer.transform(X)\n",
    "        X_test=X_test.reshape(1, -1)\n",
    "        return self.model.predict(X_test)\n",
    "    \n",
    "class Transformer_prob3(sk.base.BaseEstimator, sk.base.TransformerMixin):\n",
    "    \"\"\"\n",
    "    Returns the first k columns of a feature array\n",
    "    \"\"\"\n",
    "    def __init__(self):\n",
    "        self.model= preprocessing.StandardScaler()\n",
    "        self.pca= PCA(n_components=500)\n",
    "\n",
    "    def fit(self, X):\n",
    "        scaler=self.model.fit_transform(X)\n",
    "        l=[]\n",
    "        self.model.scale_=self.model.std_.copy()\n",
    "        for row in scaler:\n",
    "            l.append(row)\n",
    "        return self.pca.fit_transform(l)\n",
    "        \n",
    "        \n",
    "    def transform(self, X):\n",
    "        #X1=self.filter1(X)\n",
    "        input1=self.model.transform(X)\n",
    "        l=[]\n",
    "        for row in input1:\n",
    "            l.append(row)\n",
    "        k=self.pca.transform(l)    \n",
    "        return k"
   ]
  },
  {
   "cell_type": "code",
   "execution_count": 104,
   "metadata": {
    "collapsed": false
   },
   "outputs": [
    {
     "data": {
      "text/plain": [
       "2"
      ]
     },
     "execution_count": 104,
     "metadata": {},
     "output_type": "execute_result"
    }
   ],
   "source": [
    "X1=[1,2,3,1,2,3,4]\n",
    "\n",
    "k=np.array(X1).reshape(1,-1)\n",
    "k[0][1]"
   ]
  },
  {
   "cell_type": "code",
   "execution_count": 105,
   "metadata": {
    "collapsed": false
   },
   "outputs": [],
   "source": [
    "t=Transformer_prob3()"
   ]
  },
  {
   "cell_type": "code",
   "execution_count": 106,
   "metadata": {
    "collapsed": false
   },
   "outputs": [
    {
     "name": "stderr",
     "output_type": "stream",
     "text": [
      "/Library/Python/2.7/site-packages/sklearn/utils/__init__.py:93: DeprecationWarning: Function std_ is deprecated; Attribute ``std_`` will be removed in 0.19. Use ``scale_`` instead\n",
      "  warnings.warn(msg, category=DeprecationWarning)\n"
     ]
    },
    {
     "data": {
      "text/plain": [
       "array([[ -1.73130552e+01,   2.48576635e+00,   2.29553618e+01, ...,\n",
       "         -7.90258671e-03,  -2.33881223e-03,  -7.62000149e-03],\n",
       "       [  6.89173536e+00,  -1.27309994e+01,   4.42397955e+00, ...,\n",
       "         -7.08332424e-03,  -1.29008830e-03,  -1.57805522e-02],\n",
       "       [ -1.42069900e+01,  -5.51300059e+00,   1.21062928e+01, ...,\n",
       "          1.25373373e-02,  -1.37623936e-02,  -8.22109677e-03],\n",
       "       ..., \n",
       "       [  1.86178661e+01,   8.70974481e+00,  -2.58481396e+00, ...,\n",
       "          1.86144327e-03,   2.82205532e-02,  -3.30319915e-02],\n",
       "       [  3.21411110e+00,   8.45316482e+00,  -1.61097767e+01, ...,\n",
       "         -6.82798279e-03,   3.82281509e-02,   3.25961765e-02],\n",
       "       [  2.21502656e+00,   8.80264747e+00,   5.96057352e+00, ...,\n",
       "          5.21154419e-02,   2.07205569e-04,   1.63106527e-02]])"
      ]
     },
     "execution_count": 106,
     "metadata": {},
     "output_type": "execute_result"
    }
   ],
   "source": [
    "t.fit(X)"
   ]
  },
  {
   "cell_type": "code",
   "execution_count": 107,
   "metadata": {
    "collapsed": false
   },
   "outputs": [
    {
     "name": "stderr",
     "output_type": "stream",
     "text": [
      "/Library/Python/2.7/site-packages/sklearn/preprocessing/data.py:646: DeprecationWarning: Passing 1d arrays as data is deprecated in 0.17 and will raise ValueError in 0.19. Reshape your data either using X.reshape(-1, 1) if your data has a single feature or X.reshape(1, -1) if it contains a single sample.\n",
      "  warnings.warn(DEPRECATION_MSG_1D, DeprecationWarning)\n",
      "/Library/Python/2.7/site-packages/sklearn/utils/validation.py:386: DeprecationWarning: Passing 1d arrays as data is deprecated in 0.17 and willraise ValueError in 0.19. Reshape your data either using X.reshape(-1, 1) if your data has a single feature or X.reshape(1, -1) if it contains a single sample.\n",
      "  DeprecationWarning)\n"
     ]
    },
    {
     "data": {
      "text/plain": [
       "array([[  6.89173536e+00,  -1.27309994e+01,   4.42397955e+00,\n",
       "         -1.67898264e+01,   1.20920126e+01,  -1.41324557e+01,\n",
       "         -3.99675038e+00,  -3.99593294e+00,  -4.49175365e+00,\n",
       "          8.89709213e-01,   3.96018524e-01,  -6.02065382e+00,\n",
       "          9.22328945e-01,  -2.52348711e+00,  -1.45611375e+00,\n",
       "          4.63094717e-01,   1.06423520e+00,   7.78277573e-01,\n",
       "          1.97517896e+00,   5.83918802e-01,  -1.03177244e+00,\n",
       "          2.69249060e-01,  -2.23575558e-01,   2.68732846e+00,\n",
       "         -1.97394572e+00,   5.40442254e-01,  -3.60890746e-01,\n",
       "          4.18456869e-01,   1.93234364e+00,   1.48114706e+00,\n",
       "         -6.06513185e-01,   1.83542926e+00,   1.54765755e-02,\n",
       "          2.41115756e+00,   4.28693443e+00,   3.69366883e-01,\n",
       "         -2.06830292e+00,  -9.96723817e-01,  -1.23809334e+00,\n",
       "          9.69720504e-01,  -2.47962763e+00,  -8.32427422e-01,\n",
       "         -9.18510794e-01,  -2.47280244e-02,  -2.94239550e-01,\n",
       "          3.13167522e+00,   3.58877183e-01,   3.72162454e+00,\n",
       "         -8.48830374e-01,   1.26107523e-01,   4.42091457e-01,\n",
       "          1.08058469e+00,   1.98573390e+00,   7.70406395e-01,\n",
       "         -7.26633879e-02,   1.35301314e+00,   1.23381698e+00,\n",
       "         -1.01330272e+00,   1.44810693e-01,  -7.19538919e-01,\n",
       "         -1.65513065e+00,   2.44364530e-01,  -1.42606382e+00,\n",
       "          1.36281220e+00,  -1.55803453e+00,   6.94587712e-01,\n",
       "          1.21496003e+00,   1.33274762e+00,   1.50002016e+00,\n",
       "          2.13910864e+00,  -6.03294953e-02,  -7.83853542e-01,\n",
       "          8.95216918e-03,   6.04441657e-01,   1.13743587e+00,\n",
       "         -1.35628010e+00,  -2.94088638e-01,   2.69872832e+00,\n",
       "          5.64417671e-02,   1.54606562e+00,   2.07141270e+00,\n",
       "         -1.12853206e+00,  -2.05379458e+00,  -2.87332358e+00,\n",
       "         -6.70161605e-02,   5.66558396e-01,   1.70937767e-01,\n",
       "         -5.73106012e-01,  -7.77321047e-01,   1.71043053e+00,\n",
       "          1.35144670e-01,  -4.81465427e-01,  -1.06312052e+00,\n",
       "          2.21070316e+00,  -2.71928911e-01,  -1.25819982e+00,\n",
       "         -1.45236898e+00,   2.08175190e+00,  -1.25598351e+00,\n",
       "         -1.36769873e+00,  -2.38651891e-01,  -6.18031469e-01,\n",
       "         -3.08282151e-01,  -4.31185561e-01,   6.52889611e-02,\n",
       "         -5.22620483e-01,  -9.55371242e-01,   2.86022754e-01,\n",
       "          2.79155752e-01,  -6.92793264e-01,   3.99102425e-01,\n",
       "          1.13528240e+00,   1.08773572e-01,   9.64896369e-01,\n",
       "         -7.67541230e-01,  -2.56773908e-01,  -5.10418686e-01,\n",
       "          5.03627723e-01,  -1.95052989e-01,  -9.89170914e-01,\n",
       "          1.76989047e+00,  -2.26343018e-01,   1.09169913e+00,\n",
       "          1.01690200e+00,  -1.15893816e+00,  -1.55049408e+00,\n",
       "         -1.21998044e+00,   1.49787740e+00,   4.24825837e-02,\n",
       "          9.76716603e-02,  -1.56022119e-01,  -3.50908446e-01,\n",
       "         -3.43616597e-01,  -1.76860195e-01,   1.68836949e+00,\n",
       "         -8.22158058e-01,  -8.55965448e-01,   1.22009307e+00,\n",
       "         -8.39881993e-01,  -2.77215675e-01,  -6.04196138e-01,\n",
       "          7.15289619e-02,   3.00278934e-01,  -8.24824106e-02,\n",
       "         -1.39364802e+00,   1.22047872e+00,  -2.57795317e-01,\n",
       "          3.92533994e-01,  -3.46880523e-01,  -1.89797673e-01,\n",
       "          3.05666411e-01,  -4.49389326e-01,   8.36064145e-02,\n",
       "         -4.17608777e-01,   2.56995109e-01,  -4.06214292e-01,\n",
       "          3.57492093e-02,  -5.16156815e-01,  -2.64357507e-01,\n",
       "         -1.83406983e-01,   1.04224105e-01,  -9.21386975e-01,\n",
       "         -4.12921410e-01,  -6.65143711e-01,  -9.95633716e-02,\n",
       "         -1.05961667e+00,   4.23380520e-01,   1.43868518e-01,\n",
       "         -5.50065544e-01,  -5.41812345e-01,   2.48391775e-01,\n",
       "          3.16218416e-01,   4.79783861e-01,  -5.50610362e-01,\n",
       "         -1.80254240e-01,   7.56390760e-01,  -3.97210994e-01,\n",
       "          8.21036604e-01,   1.97240413e-01,  -1.55951406e-01,\n",
       "          1.84657441e-01,  -1.26599095e-01,   3.36685562e-01,\n",
       "         -8.03750416e-01,   7.69592192e-01,   2.49026550e-02,\n",
       "         -1.85406327e-01,   1.14007503e-01,   9.81405549e-02,\n",
       "         -4.82517462e-01,   8.88974727e-01,   6.16750514e-02,\n",
       "         -6.98736912e-01,   3.27375044e-01,   5.86897550e-03,\n",
       "         -6.61267278e-01,  -8.46679096e-01,   8.14478611e-01,\n",
       "          5.19721435e-01,  -2.07661491e-02,   1.36061501e+00,\n",
       "          7.62660290e-02,  -1.71578380e-01,   8.22723724e-01,\n",
       "         -3.13928663e-01,   1.59758011e-01,   1.24977325e+00,\n",
       "         -8.20620239e-02,   5.79287988e-01,  -4.30072066e-01,\n",
       "         -2.66878439e-01,  -4.73765129e-01,   3.66016769e-01,\n",
       "          1.01130371e+00,  -2.77673298e-01,  -7.38860723e-01,\n",
       "         -1.26635132e+00,   6.62517431e-02,   4.33499245e-02,\n",
       "          5.41684698e-01,  -6.13496767e-01,  -3.78136728e-01,\n",
       "         -5.22060513e-01,  -1.08198649e-01,  -4.33367678e-01,\n",
       "          7.40354952e-01,  -1.69545455e-01,   1.68667676e-01,\n",
       "          1.76217598e-01,  -3.52018812e-01,  -7.29619274e-02,\n",
       "         -8.25160967e-01,   6.42342114e-01,   4.16849967e-01,\n",
       "         -3.29132753e-01,  -5.45464331e-01,   2.82550719e-01,\n",
       "         -1.24402579e-01,   6.20340262e-01,  -3.57230452e-01,\n",
       "          6.74035196e-01,  -2.68468674e-01,   2.17478468e-01,\n",
       "         -1.72107757e-01,  -3.22905246e-01,   2.04823783e-01,\n",
       "         -2.34102726e-01,  -2.92653535e-01,   1.88325779e-01,\n",
       "          2.36992523e-01,  -3.21358191e-01,  -5.38539902e-01,\n",
       "          2.87376556e-01,   1.30403184e-01,   6.06091091e-02,\n",
       "          3.83799875e-02,  -3.03199211e-01,   5.47355993e-01,\n",
       "          4.21784760e-01,  -1.47069677e-01,  -2.74463628e-01,\n",
       "          3.40852785e-03,  -2.24679123e-02,   4.41895258e-01,\n",
       "          8.39319268e-02,   1.42509816e-01,   1.84439309e-01,\n",
       "          2.49266689e-01,   5.78304985e-02,  -1.29252627e-01,\n",
       "         -9.60183437e-02,   1.25063634e-01,  -6.60033634e-04,\n",
       "         -1.87046752e-02,  -1.91668951e-01,  -3.15369998e-01,\n",
       "         -1.29516756e-01,  -2.33229176e-01,  -1.37752070e-01,\n",
       "          1.87082723e-01,   3.55572016e-01,   2.26722658e-01,\n",
       "          5.72055304e-01,   1.70402263e-01,  -1.06545415e-01,\n",
       "         -4.34920446e-02,   2.78477536e-01,  -3.07016047e-01,\n",
       "         -2.87263369e-02,   1.88501828e-01,   7.46830247e-02,\n",
       "         -2.54237544e-02,   1.18892198e-01,  -1.98423527e-01,\n",
       "         -1.75343206e-02,   1.23370070e-01,  -1.61394954e-01,\n",
       "          3.30172743e-01,   4.74930064e-01,  -1.46465116e-01,\n",
       "          3.64618844e-02,   3.34871095e-01,   7.47375267e-02,\n",
       "         -1.34528077e-01,   4.92412571e-04,  -1.77230991e-01,\n",
       "         -1.08667651e-01,   1.33634157e-01,   9.65312652e-02,\n",
       "          3.80169690e-02,  -1.98824768e-01,   1.64018412e-01,\n",
       "          4.49264219e-01,  -4.01633332e-01,  -6.55284365e-02,\n",
       "          1.73726379e-01,  -1.33606568e-01,  -3.14122032e-01,\n",
       "         -3.75736224e-01,  -7.53418261e-02,   1.96318614e-01,\n",
       "         -3.52869452e-01,  -4.68999581e-02,  -1.09377387e-01,\n",
       "          3.56894768e-01,  -1.57843908e-01,   8.42355284e-02,\n",
       "          1.89017331e-02,  -1.79809050e-01,   1.10756405e-01,\n",
       "         -1.44256402e-01,  -1.16297902e-01,  -1.56790044e-02,\n",
       "          2.29318950e-02,  -1.84894448e-01,  -1.14319035e-02,\n",
       "         -9.59164408e-03,   1.94319727e-02,  -1.48216916e-01,\n",
       "         -5.40388981e-02,   2.65961279e-01,  -3.11347717e-01,\n",
       "         -1.66585793e-01,   2.96402033e-01,   3.58056397e-02,\n",
       "          8.68917253e-02,   4.77362247e-02,   9.93535863e-02,\n",
       "          6.30664506e-02,   1.05935782e-01,   7.38355181e-02,\n",
       "         -1.41595446e-02,   1.63858721e-01,  -1.98572528e-01,\n",
       "         -1.77176786e-01,   1.94977558e-02,   1.06679418e-01,\n",
       "          6.26819948e-02,   7.42812949e-02,  -4.71526830e-02,\n",
       "         -2.82579918e-02,   1.25280732e-01,  -1.14431208e-01,\n",
       "          1.04263329e-02,   9.36697499e-02,   1.31659899e-01,\n",
       "         -2.20800188e-02,  -8.07334978e-02,   3.79249973e-02,\n",
       "          1.83557411e-01,   7.81752938e-02,   6.49218435e-02,\n",
       "         -1.63292632e-01,   1.62267736e-02,   1.11955011e-02,\n",
       "          1.01854762e-01,   1.51008344e-01,   4.00945369e-02,\n",
       "          2.13561278e-03,   7.27266988e-02,   5.20144434e-02,\n",
       "         -1.17836689e-01,  -1.88806164e-02,  -3.36588204e-02,\n",
       "          1.24833618e-01,  -5.44966177e-02,  -8.94861444e-02,\n",
       "         -2.98588669e-02,   1.70962458e-02,  -7.29408059e-02,\n",
       "         -1.37870049e-02,   4.76081341e-02,   1.63177208e-02,\n",
       "         -6.43373737e-02,   4.24894485e-02,   6.17952925e-02,\n",
       "          1.46587332e-01,   1.96386951e-01,  -2.87282317e-02,\n",
       "         -1.15756745e-01,   7.23879738e-02,   6.99915108e-02,\n",
       "         -4.09966666e-03,   9.23971825e-02,   4.49600604e-02,\n",
       "         -9.36179762e-03,  -5.93577297e-02,   6.03216347e-02,\n",
       "          2.58098485e-02,  -6.68397780e-02,   4.83046741e-02,\n",
       "          1.12836883e-01,  -5.29649300e-02,   1.75784629e-01,\n",
       "         -6.17008270e-02,  -9.07692318e-02,  -6.51630991e-02,\n",
       "          8.44881559e-02,  -1.06321273e-01,  -8.76528045e-02,\n",
       "         -9.14307741e-02,   2.11103204e-02,  -4.86466098e-02,\n",
       "         -3.93972279e-02,   6.24970192e-02,  -7.62872148e-02,\n",
       "         -3.87722838e-02,   4.38455649e-02,   9.38383146e-02,\n",
       "         -1.27827366e-01,  -2.66625526e-02,   1.31131993e-02,\n",
       "          3.69747036e-02,  -3.73602103e-02,  -1.22309279e-02,\n",
       "         -1.14542769e-02,  -6.09235570e-02,  -5.38202552e-03,\n",
       "          1.40829280e-02,  -2.97867623e-02,   1.47733312e-03,\n",
       "          2.07629857e-02,   6.82466526e-03,   3.11521704e-02,\n",
       "         -4.95966837e-02,  -6.55110908e-02,  -4.29049001e-02,\n",
       "         -2.61375565e-02,   1.88791505e-02,   3.51912967e-02,\n",
       "         -1.24642112e-02,  -2.08720206e-02,  -8.97392963e-02,\n",
       "         -2.23539091e-02,   6.65351676e-02,  -5.69033066e-02,\n",
       "          2.62207340e-02,  -1.31767516e-02,  -1.07254912e-02,\n",
       "         -1.95867000e-02,   2.09320623e-02,   3.20864398e-02,\n",
       "          2.53301867e-02,   2.04391375e-02,   1.86516594e-02,\n",
       "          3.90573849e-02,   1.13401313e-02,  -1.50467669e-02,\n",
       "          3.73309334e-02,   1.15482712e-02,   3.25228445e-02,\n",
       "         -2.30326928e-02,  -5.79396934e-02,  -7.37234260e-02,\n",
       "         -2.49475786e-02,   2.51437073e-02,  -2.33051516e-02,\n",
       "         -3.81822663e-03,  -1.64794721e-02,  -6.53813096e-02,\n",
       "         -2.40698933e-02,   5.46379369e-03,   3.50687275e-02,\n",
       "         -7.20780612e-03,  -1.99448884e-02,  -1.80246911e-02,\n",
       "          3.65926065e-02,   2.17624183e-03,  -2.15807781e-02,\n",
       "          3.43725084e-02,   2.88274594e-02,  -6.78337010e-03,\n",
       "         -2.48497918e-02,   2.44996532e-02,  -1.45915674e-03,\n",
       "         -1.36993658e-02,   6.82455261e-03,  -7.08332424e-03,\n",
       "         -1.29008830e-03,  -1.57805522e-02]])"
      ]
     },
     "execution_count": 107,
     "metadata": {},
     "output_type": "execute_result"
    }
   ],
   "source": [
    "t.transform(X[1])"
   ]
  },
  {
   "cell_type": "code",
   "execution_count": null,
   "metadata": {
    "collapsed": false
   },
   "outputs": [],
   "source": []
  },
  {
   "cell_type": "code",
   "execution_count": 88,
   "metadata": {
    "collapsed": false
   },
   "outputs": [
    {
     "data": {
      "text/plain": [
       "PCA(copy=True, n_components='mle', whiten=False)"
      ]
     },
     "execution_count": 88,
     "metadata": {},
     "output_type": "execute_result"
    }
   ],
   "source": []
  },
  {
   "cell_type": "code",
   "execution_count": 110,
   "metadata": {
    "collapsed": false
   },
   "outputs": [
    {
     "data": {
      "text/plain": [
       "548"
      ]
     },
     "execution_count": 110,
     "metadata": {},
     "output_type": "execute_result"
    }
   ],
   "source": []
  },
  {
   "cell_type": "code",
   "execution_count": 39,
   "metadata": {
    "collapsed": true
   },
   "outputs": [],
   "source": [
    "from sklearn import svm"
   ]
  },
  {
   "cell_type": "code",
   "execution_count": 101,
   "metadata": {
    "collapsed": false
   },
   "outputs": [],
   "source": [
    "shell = Estimator_prob3(Transformer_prob3(),svm.SVC())"
   ]
  },
  {
   "cell_type": "code",
   "execution_count": 102,
   "metadata": {
    "collapsed": false
   },
   "outputs": [
    {
     "ename": "AttributeError",
     "evalue": "'SVC' object has no attribute 'std_'",
     "output_type": "error",
     "traceback": [
      "\u001b[0;31m---------------------------------------------------------------------------\u001b[0m",
      "\u001b[0;31mAttributeError\u001b[0m                            Traceback (most recent call last)",
      "\u001b[0;32m<ipython-input-102-10a85f98b85c>\u001b[0m in \u001b[0;36m<module>\u001b[0;34m()\u001b[0m\n\u001b[0;32m----> 1\u001b[0;31m \u001b[0mshell\u001b[0m\u001b[0;34m.\u001b[0m\u001b[0mfit\u001b[0m\u001b[0;34m(\u001b[0m\u001b[0mX\u001b[0m\u001b[0;34m,\u001b[0m\u001b[0my\u001b[0m\u001b[0;34m)\u001b[0m\u001b[0;34m\u001b[0m\u001b[0m\n\u001b[0m",
      "\u001b[0;32m<ipython-input-99-d00f88a5b53a>\u001b[0m in \u001b[0;36mfit\u001b[0;34m(self, X, y)\u001b[0m\n\u001b[1;32m     20\u001b[0m         \u001b[0mX_trans\u001b[0m \u001b[0;34m=\u001b[0m \u001b[0mself\u001b[0m\u001b[0;34m.\u001b[0m\u001b[0mtransformer\u001b[0m\u001b[0;34m.\u001b[0m\u001b[0mfit\u001b[0m\u001b[0;34m(\u001b[0m\u001b[0mX\u001b[0m\u001b[0;34m)\u001b[0m\u001b[0;34m\u001b[0m\u001b[0m\n\u001b[1;32m     21\u001b[0m         \u001b[0mself\u001b[0m\u001b[0;34m.\u001b[0m\u001b[0mmodel\u001b[0m\u001b[0;34m.\u001b[0m\u001b[0mfit\u001b[0m\u001b[0;34m(\u001b[0m\u001b[0mX_trans\u001b[0m\u001b[0;34m,\u001b[0m \u001b[0my\u001b[0m\u001b[0;34m)\u001b[0m\u001b[0;34m\u001b[0m\u001b[0m\n\u001b[0;32m---> 22\u001b[0;31m         \u001b[0mself\u001b[0m\u001b[0;34m.\u001b[0m\u001b[0mmodel\u001b[0m\u001b[0;34m.\u001b[0m\u001b[0mscale_\u001b[0m\u001b[0;34m=\u001b[0m\u001b[0mself\u001b[0m\u001b[0;34m.\u001b[0m\u001b[0mmodel\u001b[0m\u001b[0;34m.\u001b[0m\u001b[0mstd_\u001b[0m\u001b[0;34m.\u001b[0m\u001b[0mcopy\u001b[0m\u001b[0;34m(\u001b[0m\u001b[0;34m)\u001b[0m\u001b[0;34m\u001b[0m\u001b[0m\n\u001b[0m\u001b[1;32m     23\u001b[0m         \u001b[0;32mreturn\u001b[0m \u001b[0mself\u001b[0m\u001b[0;34m\u001b[0m\u001b[0m\n\u001b[1;32m     24\u001b[0m \u001b[0;34m\u001b[0m\u001b[0m\n",
      "\u001b[0;31mAttributeError\u001b[0m: 'SVC' object has no attribute 'std_'"
     ]
    }
   ],
   "source": [
    "shell.fit(X,y)"
   ]
  },
  {
   "cell_type": "code",
   "execution_count": 52,
   "metadata": {
    "collapsed": false
   },
   "outputs": [
    {
     "name": "stderr",
     "output_type": "stream",
     "text": [
      "/Library/Python/2.7/site-packages/sklearn/preprocessing/data.py:646: DeprecationWarning: Passing 1d arrays as data is deprecated in 0.17 and will raise ValueError in 0.19. Reshape your data either using X.reshape(-1, 1) if your data has a single feature or X.reshape(1, -1) if it contains a single sample.\n",
      "  warnings.warn(DEPRECATION_MSG_1D, DeprecationWarning)\n",
      "/Library/Python/2.7/site-packages/sklearn/utils/validation.py:386: DeprecationWarning: Passing 1d arrays as data is deprecated in 0.17 and willraise ValueError in 0.19. Reshape your data either using X.reshape(-1, 1) if your data has a single feature or X.reshape(1, -1) if it contains a single sample.\n",
      "  DeprecationWarning)\n"
     ]
    }
   ],
   "source": [
    "\n",
    "k=shell.predict(X[1])"
   ]
  },
  {
   "cell_type": "code",
   "execution_count": 53,
   "metadata": {
    "collapsed": false
   },
   "outputs": [
    {
     "data": {
      "text/plain": [
       "array(['jazz'], \n",
       "      dtype='|S11')"
      ]
     },
     "execution_count": 53,
     "metadata": {},
     "output_type": "execute_result"
    }
   ],
   "source": [
    "k"
   ]
  },
  {
   "cell_type": "code",
   "execution_count": 143,
   "metadata": {
    "collapsed": false
   },
   "outputs": [
    {
     "data": {
      "text/plain": [
       "['jazz',\n",
       " 'jazz',\n",
       " 'electronic',\n",
       " 'jazz',\n",
       " 'electronic',\n",
       " 'jazz',\n",
       " 'folkcountry',\n",
       " 'jazz',\n",
       " 'electronic',\n",
       " 'folkcountry']"
      ]
     },
     "execution_count": 143,
     "metadata": {},
     "output_type": "execute_result"
    }
   ],
   "source": [
    "y[0:10]"
   ]
  },
  {
   "cell_type": "code",
   "execution_count": 54,
   "metadata": {
    "collapsed": false
   },
   "outputs": [],
   "source": [
    "import dill\n",
    "dill.dump(shell, open(\"pritesh_music_1.dill\", \"w\"))"
   ]
  },
  {
   "cell_type": "code",
   "execution_count": 108,
   "metadata": {
    "collapsed": true
   },
   "outputs": [],
   "source": [
    "import dill\n",
    "dill.dump(t, open(\"pritesh_music_test.dill\", \"w\"))"
   ]
  },
  {
   "cell_type": "code",
   "execution_count": null,
   "metadata": {
    "collapsed": true
   },
   "outputs": [],
   "source": []
  }
 ],
 "metadata": {
  "kernelspec": {
   "display_name": "Python 2",
   "language": "python",
   "name": "python2"
  },
  "language_info": {
   "codemirror_mode": {
    "name": "ipython",
    "version": 2
   },
   "file_extension": ".py",
   "mimetype": "text/x-python",
   "name": "python",
   "nbconvert_exporter": "python",
   "pygments_lexer": "ipython2",
   "version": "2.7.10"
  }
 },
 "nbformat": 4,
 "nbformat_minor": 0
}
